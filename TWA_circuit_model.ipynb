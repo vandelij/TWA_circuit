{
 "cells": [
  {
   "cell_type": "code",
   "execution_count": 1,
   "metadata": {},
   "outputs": [],
   "source": [
    "import numpy as np\n",
    "import matplotlib.pyplot as plt"
   ]
  },
  {
   "cell_type": "code",
   "execution_count": 5,
   "metadata": {},
   "outputs": [
    {
     "name": "stdout",
     "output_type": "stream",
     "text": [
      "C:  1.12e-12  F L:  9.046534253780158e-08 H\n",
      "M:  1.4960564650638161e-09  H\n"
     ]
    }
   ],
   "source": [
    "num_straps = 8\n",
    "freq = 0.5e9\n",
    "w0 = 2*np.pi*freq\n",
    "C = 1.12e-12\n",
    "L = 1/(w0**2*C)\n",
    "print('C: ', C, ' F', 'L: ', L, 'H')\n",
    "M = 4.7/w0\n",
    "print('M: ', M, ' H')\n",
    "\n",
    "RL = 0.1\n",
    "Rc = 0.001\n",
    "Rt = RL+ Rc\n",
    "S = Rt + 1j*w0 # make function \n",
    "Zmat = np.zeros((num_straps, num_straps))\n",
    "for i in range(num_straps):\n",
    "    for j in range(num_straps):\n",
    "        if i == j:\n",
    "            Zmat[i,j] = -S"
   ]
  },
  {
   "cell_type": "code",
   "execution_count": null,
   "metadata": {},
   "outputs": [],
   "source": []
  }
 ],
 "metadata": {
  "kernelspec": {
   "display_name": "waves",
   "language": "python",
   "name": "python3"
  },
  "language_info": {
   "codemirror_mode": {
    "name": "ipython",
    "version": 3
   },
   "file_extension": ".py",
   "mimetype": "text/x-python",
   "name": "python",
   "nbconvert_exporter": "python",
   "pygments_lexer": "ipython3",
   "version": "3.11.3"
  }
 },
 "nbformat": 4,
 "nbformat_minor": 2
}
