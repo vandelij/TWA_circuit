{
 "cells": [
  {
   "cell_type": "code",
   "execution_count": 1,
   "id": "4eac52b8",
   "metadata": {},
   "outputs": [],
   "source": [
    "import numpy as np\n",
    "import matplotlib.pyplot as plt"
   ]
  },
  {
   "cell_type": "code",
   "execution_count": 12,
   "id": "75e344b4",
   "metadata": {},
   "outputs": [
    {
     "name": "stdout",
     "output_type": "stream",
     "text": [
      "1.6500000000000001\n",
      "0.17125\n",
      "1 sz 0.15625\n",
      "5 sz 0.78125\n",
      "9 sz 1.40625\n",
      "7 sz 1.09375\n",
      "sz - w 0.07625\n",
      "nstrap - 1 = 8, (nstrap-1)*sz + w = 1.33\n",
      "5*sz + 1 inch [meters] 0.80665\n",
      "(5 ft - 2.65 ft)/2 = 1.175 ft\n",
      "(5\" - 8cm)/2 = 0.0235 m\n"
     ]
    }
   ],
   "source": [
    "w = 0.08\n",
    "s_z = 0.15625\n",
    "s0 = 16e-2\n",
    "nstrap = 9\n",
    "meters_per_inch = 0.0254\n",
    "l_box = (nstrap - 1)*s_z + w + 2*s0\n",
    "ar = 0.015\n",
    "d = 0.15625\n",
    "t_box = ar + d\n",
    "print(l_box)\n",
    "print(t_box)\n",
    "print('1 sz', 1*s_z)\n",
    "print('5 sz', 5*s_z)\n",
    "print('9 sz',9*s_z)\n",
    "print('7 sz',7*s_z)\n",
    "print('sz - w',s_z-w)\n",
    "print(f'nstrap - 1 = {nstrap-1}, (nstrap-1)*sz + w = {(nstrap-1)*s_z+w}')\n",
    "print('5*sz + 1 inch [meters]', 5*s_z + 1*meters_per_inch)\n",
    "\n",
    "print(f'(5 ft - 2.65 ft)/2 = {(5 - 2.65)/2} ft')\n",
    "\n",
    "print(f'(5\" - 8cm)/2 = {(5*meters_per_inch - 8e-2)/2} m')"
   ]
  },
  {
   "cell_type": "code",
   "execution_count": null,
   "id": "7334564d",
   "metadata": {},
   "outputs": [],
   "source": []
  }
 ],
 "metadata": {
  "kernelspec": {
   "display_name": "waves",
   "language": "python",
   "name": "python3"
  },
  "language_info": {
   "codemirror_mode": {
    "name": "ipython",
    "version": 3
   },
   "file_extension": ".py",
   "mimetype": "text/x-python",
   "name": "python",
   "nbconvert_exporter": "python",
   "pygments_lexer": "ipython3",
   "version": "3.11.3"
  }
 },
 "nbformat": 4,
 "nbformat_minor": 5
}
